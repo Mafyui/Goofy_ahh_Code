{
 "cells": [
  {
   "cell_type": "code",
   "execution_count": 1,
   "id": "c53eb111-ffce-437f-bdaa-aa05d9250c29",
   "metadata": {},
   "outputs": [],
   "source": [
    "import numpy as np\n",
    "class LassoRegression():\n",
    "    def __init__(self,learning_rate, num_iters, lambda_parameter):\n",
    "        self.learning_rate = learning_rate\n",
    "        self.num_iters = num_iters\n",
    "        self.lambda_parameter = lambda_parameter\n",
    "\n",
    "    def fit(self,X,Y):\n",
    "\n",
    "        self.m , self.n = X.shape\n",
    "\n",
    "        self.w = np.zeros(self.n)\n",
    "        self.b = 0\n",
    "        self.X = X\n",
    "        self.Y = Y\n",
    "\n",
    "        for i in range(self.num_iters):\n",
    "            self.update_weights()\n",
    "        \n",
    "    def update_weights(self):\n",
    "\n",
    "        y_pred = self.predict(self.X)\n",
    "        \n",
    "        for j in range(self.n):\n",
    "\n",
    "         Xj = self.X[:,j]\n",
    "\n",
    "         if self.w[j] > 0:\n",
    "            dw = (-2/self.m) * (np.dot(Xj, (self.Y - y_pred))) + self.lambda_parameter\n",
    "\n",
    "         else:\n",
    "            dw = (-2/self.m) * (np.dot(Xj, (self.Y - y_pred))) - self.lambda_parameter\n",
    "\n",
    "        db = (-2/self.m) * np.sum(self.Y - y_pred)\n",
    "\n",
    "\n",
    "        self.w[j] = self.w[j] - self.learning_rate * dw\n",
    "        self.b = self.b - self.learning_rate * db\n",
    "\n",
    "\n",
    "    def predict(self,X):\n",
    "\n",
    "        y_pred = np.dot(X, self.w) + self.b\n",
    "\n",
    "        return y_pred\n",
    "    "
   ]
  },
  {
   "cell_type": "code",
   "execution_count": null,
   "id": "bcbdbffc-e9aa-461b-86ea-e1b255e65338",
   "metadata": {},
   "outputs": [],
   "source": []
  }
 ],
 "metadata": {
  "kernelspec": {
   "display_name": "Python 3 (ipykernel)",
   "language": "python",
   "name": "python3"
  },
  "language_info": {
   "codemirror_mode": {
    "name": "ipython",
    "version": 3
   },
   "file_extension": ".py",
   "mimetype": "text/x-python",
   "name": "python",
   "nbconvert_exporter": "python",
   "pygments_lexer": "ipython3",
   "version": "3.13.5"
  }
 },
 "nbformat": 4,
 "nbformat_minor": 5
}
